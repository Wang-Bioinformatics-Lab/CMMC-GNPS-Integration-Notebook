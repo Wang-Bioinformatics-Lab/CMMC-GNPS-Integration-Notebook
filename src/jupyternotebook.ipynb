{
 "cells": [
  {
   "cell_type": "code",
   "execution_count": 1,
   "metadata": {},
   "outputs": [],
   "source": [
    "import pandas as pd\n",
    "import requests\n",
    "from gnpsdata import workflow_classicnetworking"
   ]
  },
  {
   "cell_type": "code",
   "execution_count": 2,
   "metadata": {},
   "outputs": [],
   "source": [
    "# Input GNPS Task\n",
    "task = \"24267911d87b4d96b2b43c322fc06842\""
   ]
  },
  {
   "cell_type": "code",
   "execution_count": 3,
   "metadata": {},
   "outputs": [
    {
     "name": "stderr",
     "output_type": "stream",
     "text": [
      "/home/user/miniconda3/envs/playground/lib/python3.9/site-packages/bs4/builder/__init__.py:545: XMLParsedAsHTMLWarning: It looks like you're parsing an XML document using an HTML parser. If this really is an HTML document (maybe it's XHTML?), you can ignore or filter this warning. If it's XML, you should know that using an XML parser will be more reliable. To parse this document as XML, make sure you have the lxml package installed, and pass the keyword argument `features=\"xml\"` into the BeautifulSoup constructor.\n",
      "  warnings.warn(\n"
     ]
    }
   ],
   "source": [
    "# Loading the library identifications\n",
    "\n",
    "library_df = workflow_classicnetworking.get_librarymatches_dataframe(task)"
   ]
  },
  {
   "cell_type": "code",
   "execution_count": 4,
   "metadata": {},
   "outputs": [],
   "source": [
    "all_library_entries = library_df.to_dict(\"records\")"
   ]
  },
  {
   "cell_type": "code",
   "execution_count": 5,
   "metadata": {},
   "outputs": [],
   "source": [
    "CMMC_API_URL = \"https://cmmc-kb.gnps2.org/api/entry\"\n",
    "\n",
    "for library_match in all_library_entries:\n",
    "    #print(library_match)\n",
    "    library_usi = \"mzspec:GNPS:GNPS-LIBRARY:accession:{}\".format(library_match[\"SpectrumID\"])\n",
    "    \n",
    "    # Doing Look-Up by USI\n",
    "    r = requests.get(CMMC_API_URL, params={\"usi\":library_usi})\n",
    "    \n",
    "    if len(r.json()) > 0:\n",
    "        library_match[\"cmmc_id\"] = r.json()[0][\"id\"]\n",
    "        \n",
    "    # Doing Lookup by InCHiKey\n",
    "    r = requests.get(CMMC_API_URL, params={\"inchikey\": library_match[\"InChIKey\"]})\n",
    "\n",
    "    # Doing lookup by USI\n",
    "    library_usi = \"mzspec:GNPS:{}:accession:{}\".format(library_match[\"SpectrumID\"], library_match[\"SpectrumID\"])\n",
    "    \n",
    "    if len(r.json()) > 0:\n",
    "        library_match[\"cmmc_id\"] = r.json()[0][\"id\"]"
   ]
  },
  {
   "cell_type": "code",
   "execution_count": null,
   "metadata": {},
   "outputs": [],
   "source": [
    "# Writing output to file: library_matches_with_cmmc_ids.tsv\n",
    "\n",
    "new_library_df = pd.DataFrame(all_library_entries)\n",
    "new_library_df.to_csv(\"library_matches_with_cmmc_ids.tsv\", index=False, sep=\"\\t\")"
   ]
  }
 ],
 "metadata": {
  "kernelspec": {
   "display_name": "Python 3 (ipykernel)",
   "language": "python",
   "name": "python3"
  },
  "language_info": {
   "codemirror_mode": {
    "name": "ipython",
    "version": 3
   },
   "file_extension": ".py",
   "mimetype": "text/x-python",
   "name": "python",
   "nbconvert_exporter": "python",
   "pygments_lexer": "ipython3",
   "version": "3.9.15"
  }
 },
 "nbformat": 4,
 "nbformat_minor": 4
}
